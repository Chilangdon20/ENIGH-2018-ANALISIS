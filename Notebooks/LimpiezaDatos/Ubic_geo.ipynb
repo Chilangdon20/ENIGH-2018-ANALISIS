{
  "nbformat": 4,
  "nbformat_minor": 0,
  "metadata": {
    "colab": {
      "name": "Ubic_geo.ipynb",
      "provenance": []
    },
    "kernelspec": {
      "name": "python3",
      "display_name": "Python 3"
    }
  },
  "cells": [
    {
      "cell_type": "code",
      "metadata": {
        "id": "Jd6WFa4PO0r8"
      },
      "source": [
        "import pandas as pd"
      ],
      "execution_count": null,
      "outputs": []
    },
    {
      "cell_type": "code",
      "metadata": {
        "id": "C00fPZMAPJBL"
      },
      "source": [
        "df = pd.read_csv('/content/conjunto_de_datos_ingresos_enigh_2018_ns.csv')"
      ],
      "execution_count": 14,
      "outputs": []
    },
    {
      "cell_type": "code",
      "metadata": {
        "id": "uRuJnAs_PM0-"
      },
      "source": [
        "hogar_principal = df['foliohog'] == 1"
      ],
      "execution_count": 15,
      "outputs": []
    },
    {
      "cell_type": "code",
      "metadata": {
        "id": "D2Vu4tyCUr5X"
      },
      "source": [
        "ingreso_hogarprincipal = df[hogar_principal]"
      ],
      "execution_count": 17,
      "outputs": []
    },
    {
      "cell_type": "code",
      "metadata": {
        "id": "_a_w1elJUxvQ"
      },
      "source": [
        "df_updated = ingreso_hogarprincipal.replace(to_replace=\"\\s\\s*\",value = '0',regex=True)"
      ],
      "execution_count": 19,
      "outputs": []
    },
    {
      "cell_type": "code",
      "metadata": {
        "id": "QS2hK-8NVIeu"
      },
      "source": [
        "df_updated['ing_2'] = df_updated['ing_2'].astype(int)\n",
        "df_updated['ing_3'] = df_updated['ing_3'].astype(int)\n",
        "df_updated['ing_4'] = df_updated['ing_4'].astype(int)\n",
        "df_updated['ing_5'] = df_updated['ing_5'].astype(int)"
      ],
      "execution_count": null,
      "outputs": []
    }
  ]
}